{
 "cells": [
  {
   "cell_type": "code",
   "execution_count": 121,
   "id": "e5167480",
   "metadata": {},
   "outputs": [
    {
     "data": {
      "text/plain": [
       "True"
      ]
     },
     "execution_count": 121,
     "metadata": {},
     "output_type": "execute_result"
    }
   ],
   "source": [
    "from langgraph.graph import StateGraph,START,END\n",
    "from typing import TypedDict\n",
    "from langchain_google_genai import ChatGoogleGenerativeAI\n",
    "from dotenv import load_dotenv\n",
    "import os   \n",
    "load_dotenv()"
   ]
  },
  {
   "cell_type": "code",
   "execution_count": 122,
   "id": "fcf7de1c",
   "metadata": {},
   "outputs": [],
   "source": [
    "class BatmansState(TypedDict):\n",
    "    run:int\n",
    "    balls:int\n",
    "    fours:int\n",
    "    sixes:int\n",
    "\n",
    "\n",
    "    strike_rate:float\n",
    "    balls_per_boundries:float\n",
    "    boundary_percentage:float\n",
    "    summary:str"
   ]
  },
  {
   "cell_type": "code",
   "execution_count": 123,
   "id": "f4b714d7",
   "metadata": {},
   "outputs": [],
   "source": [
    "graph = StateGraph(BatmansState)"
   ]
  },
  {
   "cell_type": "code",
   "execution_count": 124,
   "id": "1359fd2c",
   "metadata": {},
   "outputs": [],
   "source": [
    "def calulate_strike_rate(state:BatmansState)->BatmansState:\n",
    "    runs= state[\"run\"]\n",
    "    balls= state[\"balls\"]\n",
    "\n",
    "    strike_rate_caluclator= (runs/balls)*100\n",
    "\n",
    "    # state[\"strike_rate\"]=strike_rate_caluclator\n",
    "    return {\"strike_rate\":strike_rate_caluclator}\n"
   ]
  },
  {
   "cell_type": "code",
   "execution_count": 125,
   "id": "478381dd",
   "metadata": {},
   "outputs": [],
   "source": [
    "def calulate_balls_per_boundries(state:BatmansState)->BatmansState:\n",
    "    total_balls= state[\"balls\"]\n",
    "    fours= state[\"fours\"]\n",
    "    sixes= state[\"sixes\"]\n",
    "\n",
    "    total_boundries= fours+sixes\n",
    "\n",
    "    ball_per_boundries= total_balls/total_boundries\n",
    "\n",
    "    ball_per_boundries=round(ball_per_boundries,2)\n",
    "    # state[\"balls_per_boundries\"]=ball_per_boundries\n",
    "\n",
    "    return {\"balls_per_boundries\":ball_per_boundries}"
   ]
  },
  {
   "cell_type": "code",
   "execution_count": 126,
   "id": "69123b39",
   "metadata": {},
   "outputs": [],
   "source": [
    "def calulate_boundary_percentage(state:BatmansState)->BatmansState:\n",
    "    total_boundries= ((state[\"fours\"] *4 )+(state[\"sixes\"] *6))\n",
    "    total_runs= state[\"run\"]\n",
    "\n",
    "    boundary_percentage= (total_boundries/total_runs)*100\n",
    "    boundary_percentage=round(boundary_percentage,2)\n",
    "    # state[\"boundary_percentage\"]=boundary_percentage\n",
    "\n",
    "    return {\"boundary_percentage\":boundary_percentage}"
   ]
  },
  {
   "cell_type": "code",
   "execution_count": 127,
   "id": "1088a063",
   "metadata": {},
   "outputs": [],
   "source": [
    "def summary(state:BatmansState):\n",
    "    summary = f\"\"\"\n",
    "Strike Rate: {state[\"strike_rate\"]}\n",
    "Balls per Boundries: {state[\"balls_per_boundries\"]}\n",
    "Boundary Percentage: {state[\"boundary_percentage\"]}\n",
    "    \"\"\"\n",
    "   \n",
    "    # state[\"summary\"] = summary\n",
    "    return {\"summary\":summary}"
   ]
  },
  {
   "cell_type": "code",
   "execution_count": 128,
   "id": "54ef93df",
   "metadata": {},
   "outputs": [
    {
     "data": {
      "text/plain": [
       "<langgraph.graph.state.StateGraph at 0x78a6c452a330>"
      ]
     },
     "execution_count": 128,
     "metadata": {},
     "output_type": "execute_result"
    }
   ],
   "source": [
    "## add node\n",
    "graph.add_node(\"calulate_strike_rate\",calulate_strike_rate)\n",
    "graph.add_node(\"calulate_balls_per_boundries\",calulate_balls_per_boundries)\n",
    "graph.add_node(\"calulate_boundary_percentage\",calulate_boundary_percentage)\n",
    "graph.add_node(\"summary\",summary)"
   ]
  },
  {
   "cell_type": "code",
   "execution_count": 129,
   "id": "e256f45b",
   "metadata": {},
   "outputs": [
    {
     "data": {
      "text/plain": [
       "<langgraph.graph.state.StateGraph at 0x78a6c452a330>"
      ]
     },
     "execution_count": 129,
     "metadata": {},
     "output_type": "execute_result"
    }
   ],
   "source": [
    "## add edges\n",
    "graph.add_edge(START,\"calulate_strike_rate\")\n",
    "graph.add_edge(START,\"calulate_balls_per_boundries\")\n",
    "graph.add_edge(START,\"calulate_boundary_percentage\")\n",
    "\n",
    "graph.add_edge(\"calulate_strike_rate\",\"summary\")\n",
    "graph.add_edge(\"calulate_balls_per_boundries\",\"summary\")\n",
    "graph.add_edge(\"calulate_boundary_percentage\",\"summary\")\n",
    "\n",
    "graph.add_edge(\"summary\",END)"
   ]
  },
  {
   "cell_type": "code",
   "execution_count": 130,
   "id": "e895e74f",
   "metadata": {},
   "outputs": [],
   "source": [
    "workflow = graph.compile()"
   ]
  },
  {
   "cell_type": "code",
   "execution_count": 131,
   "id": "a37ab116",
   "metadata": {},
   "outputs": [
    {
     "data": {
      "image/png": "[encoded data removed]",
      "text/plain": [
       "<langgraph.graph.state.CompiledStateGraph object at 0x78a6c452c110>"
      ]
     },
     "execution_count": 131,
     "metadata": {},
     "output_type": "execute_result"
    }
   ],
   "source": [
    "workflow"
   ]
  },
  {
   "cell_type": "code",
   "execution_count": 132,
   "id": "eb5ca6d8",
   "metadata": {},
   "outputs": [],
   "source": [
    "initial_state = {\n",
    "    \n",
    "    \"run\":120,\n",
    "    \"balls\":50,\n",
    "    \"fours\":10,\n",
    "    \"sixes\":4\n",
    "}"
   ]
  },
  {
   "cell_type": "code",
   "execution_count": 133,
   "id": "440a6de7",
   "metadata": {},
   "outputs": [
    {
     "data": {
      "text/plain": [
       "{'run': 120,\n",
       " 'balls': 50,\n",
       " 'fours': 10,\n",
       " 'sixes': 4,\n",
       " 'strike_rate': 240.0,\n",
       " 'balls_per_boundries': 3.57,\n",
       " 'boundary_percentage': 53.33,\n",
       " 'summary': '\\nStrike Rate: 240.0\\nBalls per Boundries: 3.57\\nBoundary Percentage: 53.33\\n    '}"
      ]
     },
     "execution_count": 133,
     "metadata": {},
     "output_type": "execute_result"
    }
   ],
   "source": [
    "workflow.invoke(initial_state)"
   ]
  },
  {
   "cell_type": "code",
   "execution_count": null,
   "id": "2ee353c5",
   "metadata": {},
   "outputs": [],
   "source": []
  }
 ],
 "metadata": {
  "kernelspec": {
   "display_name": "venv",
   "language": "python",
   "name": "python3"
  },
  "language_info": {
   "codemirror_mode": {
    "name": "ipython",
    "version": 3
   },
   "file_extension": ".py",
   "mimetype": "text/x-python",
   "name": "python",
   "nbconvert_exporter": "python",
   "pygments_lexer": "ipython3",
   "version": "3.12.3"
  }
 },
 "nbformat": 4,
 "nbformat_minor": 5
}
