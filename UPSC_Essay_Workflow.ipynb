{
 "cells": [
  {
   "cell_type": "code",
   "execution_count": 46,
   "id": "66e46ad5",
   "metadata": {},
   "outputs": [
    {
     "data": {
      "text/plain": [
       "True"
      ]
     },
     "execution_count": 46,
     "metadata": {},
     "output_type": "execute_result"
    }
   ],
   "source": [
    "from typing import TypedDict,Annotated\n",
    "from langchain_google_genai import ChatGoogleGenerativeAI\n",
    "from dotenv import load_dotenv\n",
    "from langgraph.graph import StateGraph,START,END\n",
    "from pydantic import BaseModel,Field\n",
    "import operator\n",
    "import os   \n",
    "load_dotenv()"
   ]
  },
  {
   "cell_type": "code",
   "execution_count": 38,
   "id": "b090e31e",
   "metadata": {},
   "outputs": [],
   "source": [
    "model = ChatGoogleGenerativeAI(model=\"gemini-2.0-flash\",\n",
    "    api_key=os.getenv(\"GOOGLE_API\"))"
   ]
  },
  {
   "cell_type": "code",
   "execution_count": 39,
   "id": "6c963015",
   "metadata": {},
   "outputs": [],
   "source": [
    "class EvaluationSchema(BaseModel):\n",
    "\n",
    "    feedback:str =Field(description=\"Detailed Feedback on the essay\")\n",
    "    score:int= Field(description=\"Score out of 10\",ge=0,le=10)"
   ]
  },
  {
   "cell_type": "code",
   "execution_count": 40,
   "id": "0b4852a5",
   "metadata": {},
   "outputs": [],
   "source": [
    "structured_model= model.with_structured_output(EvaluationSchema)"
   ]
  },
  {
   "cell_type": "code",
   "execution_count": 41,
   "id": "5d0e1e36",
   "metadata": {},
   "outputs": [],
   "source": [
    "essay=\"\"\"\n",
    "My mother is an extraordinary woman who holds a special place in my heart. I love her deeply for countless reasons, but it’s her unwavering love and support that stand out the most. From my earliest days, she has been my biggest cheerleader, always encouraging me to pursue my dreams and believe in myself. Her love is unconditional; it envelops me like a warm blanket, providing comfort during difficult times and celebrating my successes with genuine joy.\n",
    "\n",
    "One of the qualities I admire most about my mom is her incredible strength. She has faced numerous challenges throughout her life, yet she always manages to rise above them with grace and resilience. Whether it’s juggling work and family responsibilities or overcoming personal obstacles, she exemplifies determination and perseverance. Her ability to remain positive, even in the face of adversity, inspires me to adopt a similar mindset.\n",
    "\n",
    "In addition to being a loving mother, she is also a companion in times of trouble. Whenever I face challenges or feel overwhelmed, she is always there to lend an ear or offer sage advice. Her wisdom and understanding create a safe space for me to express my feelings without fear of judgment. I know I can rely on her for support, whether I’m dealing with school stress or personal issues.\n",
    "\n",
    "In conclusion, my mom is not just a parent; she is my confidante, role model, and best friend. Her love, strength, and unwavering support shape who I am today. I am eternally grateful for everything she does and for the profound impact she has on my life. I cherish our bond and look forward to creating many more beautiful memories together.\"\"\""
   ]
  },
  {
   "cell_type": "code",
   "execution_count": 42,
   "id": "4ec352ec",
   "metadata": {},
   "outputs": [],
   "source": [
    "prompt=\"Evaluate the langauge quality of the following essay  and provide a feednback and assign a score out of 10 \\n{essay}\"\n",
    "testing=structured_model.invoke(prompt)"
   ]
  },
  {
   "cell_type": "code",
   "execution_count": 44,
   "id": "d24fdef9",
   "metadata": {},
   "outputs": [
    {
     "data": {
      "text/plain": [
       "7"
      ]
     },
     "execution_count": 44,
     "metadata": {},
     "output_type": "execute_result"
    }
   ],
   "source": [
    "testing.feedback\n",
    "testing.score"
   ]
  },
  {
   "cell_type": "code",
   "execution_count": 47,
   "id": "e0dc048b",
   "metadata": {},
   "outputs": [],
   "source": [
    "class UPSCState(TypedDict):\n",
    "    essay: str\n",
    "    language_feedback: str\n",
    "    analysis_feedback: str\n",
    "    clarity_feedback: str\n",
    "\n",
    "    overall_feedback: str\n",
    "    individual_score:Annotated[list[int],operator.add]\n",
    "    avg_score:float"
   ]
  },
  {
   "cell_type": "code",
   "execution_count": 48,
   "id": "fe24319f",
   "metadata": {},
   "outputs": [],
   "source": [
    "graph=StateGraph(UPSCState)"
   ]
  },
  {
   "cell_type": "code",
   "execution_count": 49,
   "id": "ee98e3bb",
   "metadata": {},
   "outputs": [],
   "source": [
    "def evaulate_langauge(state:UPSCState)->UPSCState:\n",
    "    prompt=\"Evaluate the langauge quality of the following essay  and provide a feednback and assign a score out of 10 \\n{essay}\"\n",
    "    testing=structured_model.invoke(prompt)\n",
    "    # state[\"language_feedback\"] = testing.feedback\n",
    "    # state[\"individual_score\"].append(testing.score)\n",
    "    return {\"language_feedback\":testing.feedback,\"individual_score\":[testing.score]}"
   ]
  },
  {
   "cell_type": "code",
   "execution_count": 50,
   "id": "02d5b95c",
   "metadata": {},
   "outputs": [],
   "source": [
    "def evaluate_analysis(state:UPSCState)->UPSCState:\n",
    "    prompt=\"Evaluate the depth of analysis of the following essay  and provide a feednback and assign a score out of 10 \\n{essay}\"\n",
    "    testing=structured_model.invoke(prompt)\n",
    "    # state[\"language_feedback\"] = testing.feedback\n",
    "    # state[\"individual_score\"].append(testing.score)\n",
    "    return {\"analysis_feedback\":testing.feedback,\"individual_score\":[testing.score]}"
   ]
  },
  {
   "cell_type": "code",
   "execution_count": 51,
   "id": "92dbae51",
   "metadata": {},
   "outputs": [],
   "source": [
    "def clarity_feedback(state:UPSCState)->UPSCState:\n",
    "    prompt=\"Evaluate the clarity of thought  of the following essay  and provide a feednback and assign a score out of 10 \\n{essay}\"\n",
    "    testing=structured_model.invoke(prompt)\n",
    "    # state[\"language_feedback\"] = testing.feedback\n",
    "    # state[\"individual_score\"].append(testing.score)\n",
    "    return {\"clarity_feedback\":testing.feedback,\"individual_score\":[testing.score]}"
   ]
  },
  {
   "cell_type": "code",
   "execution_count": 52,
   "id": "b373b4c0",
   "metadata": {},
   "outputs": [],
   "source": [
    "def final_evaluation(state:UPSCState)->UPSCState:\n",
    "\n",
    "    ## summary feedback\n",
    "\n",
    "    prompt= f\"Based on the following feedback create a summarized feedback /n language feedback - {state[\"language_feedback\"]} \\n depth of analysis -{state[\"analysis_feedback\"]} \\n clarity of thought -{state[\"clarity_feedback\"]} , provide a summary feedback and assign \"\n",
    "    overall_feedback= model.invoke(prompt).content\n",
    "\n",
    "\n",
    "    ## average score\n",
    "    avg_score=sum(state[\"individual_score\"])/len(state[\"individual_score\"])\n",
    "\n",
    "\n",
    "    return {\"overall_feedback\":overall_feedback,\"avg_score\":avg_score}"
   ]
  },
  {
   "cell_type": "code",
   "execution_count": 53,
   "id": "7baf75ad",
   "metadata": {},
   "outputs": [
    {
     "data": {
      "text/plain": [
       "<langgraph.graph.state.StateGraph at 0x73e8da5127b0>"
      ]
     },
     "execution_count": 53,
     "metadata": {},
     "output_type": "execute_result"
    }
   ],
   "source": [
    "graph.add_node(\"evaluate_langauge\",evaulate_langauge)\n",
    "graph.add_node(\"evaluate_analysis\",evaluate_analysis)\n",
    "graph.add_node(\"clarity_feedback\",clarity_feedback)\n",
    "graph.add_node(\"final_evaluation\",final_evaluation)\n",
    "\n",
    "\n",
    "\n",
    "## edges \n",
    "\n",
    "graph.add_edge(START,\"evaluate_langauge\")\n",
    "graph.add_edge(START,\"evaluate_analysis\")\n",
    "graph.add_edge(START,\"clarity_feedback\")\n",
    "\n",
    "\n",
    "graph.add_edge(\"evaluate_langauge\",\"final_evaluation\")\n",
    "graph.add_edge(\"evaluate_analysis\",\"final_evaluation\")\n",
    "graph.add_edge(\"clarity_feedback\",\"final_evaluation\")\n",
    "\n",
    "graph.add_edge(\"final_evaluation\",END)"
   ]
  },
  {
   "cell_type": "code",
   "execution_count": 54,
   "id": "14160371",
   "metadata": {},
   "outputs": [],
   "source": [
    "workflow=graph.compile()"
   ]
  },
  {
   "cell_type": "code",
   "execution_count": 55,
   "id": "d6271d9b",
   "metadata": {},
   "outputs": [
    {
     "data": {
      "image/png": "[encoded data removed]",
      "text/plain": [
       "<langgraph.graph.state.CompiledStateGraph object at 0x73e8da5113a0>"
      ]
     },
     "execution_count": 55,
     "metadata": {},
     "output_type": "execute_result"
    }
   ],
   "source": [
    "workflow"
   ]
  },
  {
   "cell_type": "code",
   "execution_count": 57,
   "id": "df7cc54c",
   "metadata": {},
   "outputs": [
    {
     "data": {
      "text/plain": [
       "{'essay': '\\nMy mother is an extraordinary woman who holds a special place in my heart. I love her deeply for countless reasons, but it’s her unwavering love and support that stand out the most. From my earliest days, she has been my biggest cheerleader, always encouraging me to pursue my dreams and believe in myself. Her love is unconditional; it envelops me like a warm blanket, providing comfort during difficult times and celebrating my successes with genuine joy.\\n\\nOne of the qualities I admire most about my mom is her incredible strength. She has faced numerous challenges throughout her life, yet she always manages to rise above them with grace and resilience. Whether it’s juggling work and family responsibilities or overcoming personal obstacles, she exemplifies determination and perseverance. Her ability to remain positive, even in the face of adversity, inspires me to adopt a similar mindset.\\n\\nIn addition to being a loving mother, she is also a companion in times of trouble. Whenever I face challenges or feel overwhelmed, she is always there to lend an ear or offer sage advice. Her wisdom and understanding create a safe space for me to express my feelings without fear of judgment. I know I can rely on her for support, whether I’m dealing with school stress or personal issues.\\n\\nIn conclusion, my mom is not just a parent; she is my confidante, role model, and best friend. Her love, strength, and unwavering support shape who I am today. I am eternally grateful for everything she does and for the profound impact she has on my life. I cherish our bond and look forward to creating many more beautiful memories together.',\n",
       " 'language_feedback': 'The essay demonstrates a good understanding of the topic. The arguments are presented clearly and logically. There is room for improvement in sentence structure and vocabulary to enhance the overall quality.',\n",
       " 'analysis_feedback': 'The essay demonstrates a good understanding of the topic and provides a clear and concise analysis. However, the analysis could be deeper by exploring the nuances and complexities of the issue in more detail. Providing more specific examples and supporting evidence would also strengthen the essay.',\n",
       " 'clarity_feedback': \"The clarity of thought in this essay is good. The ideas are presented in a logical order and are generally easy to follow. However, there are a few instances where the connections between ideas could be made more explicit. Providing more specific examples and elaborating on the reasoning behind certain claims would further enhance the essay's clarity. \",\n",
       " 'overall_feedback': \"Okay, here's a summarized feedback with a suggested grade, based on your input:\\n\\n**Summary Feedback:**\\n\\nThe essay demonstrates a solid understanding of the topic with clear arguments and logical presentation. While the clarity of thought and presentation are generally good, the essay would benefit from enhanced sentence structure, vocabulary, and a deeper, more nuanced analysis. More specific examples and supporting evidence are needed to strengthen claims and improve overall clarity.\\n\\n**Suggested Grade:** B (Good)\",\n",
       " 'individual_score': [7, 7, 7],\n",
       " 'avg_score': 7.0}"
      ]
     },
     "execution_count": 57,
     "metadata": {},
     "output_type": "execute_result"
    }
   ],
   "source": [
    "inital_state={\"essay\":essay}\n",
    "workflow.invoke(inital_state)\n"
   ]
  },
  {
   "cell_type": "code",
   "execution_count": null,
   "id": "60758c6b",
   "metadata": {},
   "outputs": [],
   "source": []
  }
 ],
 "metadata": {
  "kernelspec": {
   "display_name": "venv",
   "language": "python",
   "name": "python3"
  },
  "language_info": {
   "codemirror_mode": {
    "name": "ipython",
    "version": 3
   },
   "file_extension": ".py",
   "mimetype": "text/x-python",
   "name": "python",
   "nbconvert_exporter": "python",
   "pygments_lexer": "ipython3",
   "version": "3.12.3"
  }
 },
 "nbformat": 4,
 "nbformat_minor": 5
}
