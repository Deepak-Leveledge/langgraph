{
 "cells": [
  {
   "cell_type": "code",
   "execution_count": 74,
   "id": "72d15818",
   "metadata": {},
   "outputs": [
    {
     "name": "stdout",
     "output_type": "stream",
     "text": [
      "hello world\n"
     ]
    }
   ],
   "source": [
    "print(\"hello world\")"
   ]
  },
  {
   "cell_type": "code",
   "execution_count": 75,
   "id": "90878b1e",
   "metadata": {},
   "outputs": [],
   "source": [
    "from langgraph.graph import StateGraph,START,END\n",
    "from typing import  TypedDict,Annotated,Literal\n",
    "from langchain_google_genai import ChatGoogleGenerativeAI\n",
    "from langchain_core.messages import HumanMessage,SystemMessage\n",
    "import os"
   ]
  },
  {
   "cell_type": "code",
   "execution_count": 76,
   "id": "a13b89d1",
   "metadata": {},
   "outputs": [
    {
     "data": {
      "text/plain": [
       "True"
      ]
     },
     "execution_count": 76,
     "metadata": {},
     "output_type": "execute_result"
    }
   ],
   "source": [
    "from dotenv import load_dotenv\n",
    "load_dotenv()"
   ]
  },
  {
   "cell_type": "code",
   "execution_count": 77,
   "id": "4dba686e",
   "metadata": {},
   "outputs": [],
   "source": [
    "generator_llm= ChatGoogleGenerativeAI(model=\"gemini-2.0-flash\",\n",
    "    api_key=os.getenv(\"GOOGLE_API\"))"
   ]
  },
  {
   "cell_type": "code",
   "execution_count": 78,
   "id": "7d3ad7f3",
   "metadata": {},
   "outputs": [],
   "source": [
    "evaluataor_llm = ChatGoogleGenerativeAI(model=\"gemini-2.0-flash\",\n",
    "    api_key=os.getenv(\"GOOGLE_API\"))"
   ]
  },
  {
   "cell_type": "code",
   "execution_count": 79,
   "id": "dfe32704",
   "metadata": {},
   "outputs": [],
   "source": [
    "optimizer_llm = ChatGoogleGenerativeAI(model=\"gemini-2.0-flash\",\n",
    "    api_key=os.getenv(\"GOOGLE_API\"))"
   ]
  },
  {
   "cell_type": "code",
   "execution_count": 80,
   "id": "42ab54c6",
   "metadata": {},
   "outputs": [],
   "source": [
    "from pydantic import BaseModel, Field\n",
    "\n",
    "\n",
    "class TweetEvaluation(BaseModel):\n",
    "    evaluation:Literal[\"approved\",\"need_improvement\"] = Field(...,description=\"The evaluation of the tweet\")\n",
    "    feedback: str = Field(...,description=\"The feedback for the tweet\")"
   ]
  },
  {
   "cell_type": "code",
   "execution_count": 81,
   "id": "0c736e1f",
   "metadata": {},
   "outputs": [],
   "source": [
    "structured_evalulator_llm =evaluataor_llm.with_structured_output(TweetEvaluation)"
   ]
  },
  {
   "cell_type": "code",
   "execution_count": 82,
   "id": "1d0e3939",
   "metadata": {},
   "outputs": [],
   "source": [
    "## state Defined\n",
    "class TweetState(TypedDict):\n",
    "\n",
    "    topic: str\n",
    "    tweet: str\n",
    "    evaluation: Literal[\"approved\", \"need_improvement\"]\n",
    "    optimized_tweet: str\n",
    "\n",
    "\n",
    "    itreation: int  ##this is used to track the number of iterations required to optimize the tweet\n",
    "    max_iterations: int  ##this is used to limit the number of iterations required to optimize the tweet\n"
   ]
  },
  {
   "cell_type": "code",
   "execution_count": 83,
   "id": "2b54006c",
   "metadata": {},
   "outputs": [],
   "source": [
    "graph = StateGraph(TweetState)"
   ]
  },
  {
   "cell_type": "code",
   "execution_count": 84,
   "id": "a21d0d1d",
   "metadata": {},
   "outputs": [],
   "source": [
    "def generate_tweet(state: TweetState):\n",
    "\n",
    "    ##promopt\n",
    "    message=[\n",
    "        SystemMessage(content=\"You are a social media post generator.\"),\n",
    "        HumanMessage(content=f\"\"\"\n",
    "Write a short tweet about the topic: {state[\"topic\"]}\n",
    "\n",
    "Make it engaging and suitable for a general audience.\n",
    "Rules:\n",
    "  do not use hashtags\n",
    "  max length is 280 characters\n",
    "  use a friendly and conversational tone\n",
    "  use simple day-to-day language \n",
    "   \"\"\")\n",
    "    ]\n",
    "\n",
    "\n",
    "    ## send to generator llm\n",
    "    respponse=generator_llm.invoke(message).content\n",
    "\n",
    "    ##return the state with the generated tweet\n",
    "    state[\"tweet\"] = respponse\n",
    "    return state"
   ]
  },
  {
   "cell_type": "code",
   "execution_count": 85,
   "id": "ae7dbfff",
   "metadata": {},
   "outputs": [],
   "source": [
    "def Evaluate_tweet(state: TweetState):\n",
    "\n",
    "    ##promopt\n",
    "    message=[\n",
    "        SystemMessage(content=\"You are a social media post evaluator.\"),\n",
    "        HumanMessage(content=f\"\"\"\n",
    "Evaluate the following tweet:\n",
    "                     Tweet: {state[\"tweet\"]}\n",
    "\n",
    "use the following criteria:\n",
    "    - Is it engaging and suitable for a general audience?\n",
    "    - Does it follow the rules provided?\n",
    "    - Is it within the 280 character limit?\n",
    "    - Is it friendly and conversational?\n",
    "    - Is it written in simple day-to-day language?\n",
    "    - Is it relevant to the topic?\n",
    "    - Is it clear and concise?\n",
    "    - Is it free of spelling and grammatical errors?\n",
    "    - Is it original and creative?\n",
    "    - Is it informative and valuable?\n",
    "    - Is it appropriate for the platform?\n",
    "\n",
    "    Auto reject if:\n",
    "    - it contains hashtags\n",
    "    - it is longer than 280 characters\n",
    "    - it is not engaging\n",
    "    - it is not suitable for a general audience\n",
    "    - it is not friendly and conversational\n",
    "    - it is not written in simple day-to-day language\n",
    "   \n",
    "    ##Respond ONLY in structured format :\n",
    "   evaluation: \"approved\" or \"need_improvement\"\n",
    "    feedback: One parageraph feedback on the tweet\n",
    "\n",
    "\n",
    "\n",
    "\"\"\")]\n",
    "    \n",
    "\n",
    "\n",
    "\n",
    "    response= structured_evalulator_llm.invoke(message)\n",
    "\n",
    "\n",
    "    state[\"evaluation\"] = response.evaluation\n",
    "    state[\"feedback\"] = response.feedback\n",
    "    return state\n",
    "    \n",
    "\n",
    "    # return state\n",
    "    \n",
    "\n",
    "    "
   ]
  },
  {
   "cell_type": "code",
   "execution_count": 86,
   "id": "ce16a700",
   "metadata": {},
   "outputs": [],
   "source": [
    "def optimizer_tweet(state: TweetState):\n",
    "\n",
    "    ##promopt\n",
    "    message=[\n",
    "        SystemMessage(content=\"You are a social media post optimizer.\"),\n",
    "        HumanMessage(content=f\"\"\"Optimize the following tweet:\n",
    "                     Tweet: {state[\"feedback\"]}\n",
    "\n",
    "\n",
    "                     Topic: {state[\"topic\"]}\n",
    "                     Original Tweet: {state[\"tweet\"]}\n",
    "\n",
    "Re-write it as short ,viral and engaging tweet that is suitable for a general audience.\n",
    "\n",
    "    \"\"\")\n",
    "    ]\n",
    "\n",
    "    response=optimizer_llm.invoke(message).content\n",
    "    iteration = state[\"itreation\"] + 1\n",
    "\n",
    "    state[\"tweet\"] = response\n",
    "    state[\"itreation\"] += 1\n",
    "    return state\n",
    "\n",
    "    # return state\n",
    "\n",
    "\n"
   ]
  },
  {
   "cell_type": "code",
   "execution_count": 87,
   "id": "578fa7e1",
   "metadata": {},
   "outputs": [],
   "source": [
    "def check_evaluation(state: TweetState):\n",
    "    # Debug print to see what value is being returned\n",
    "    print(\"Evaluation value:\", state.get(\"evaluation\"))\n",
    "    # Normalize possible LLM outputs\n",
    "    eval_value = state.get(\"evaluation\", \"\").strip().lower()\n",
    "    if eval_value == \"approved\":\n",
    "        return END\n",
    "    elif eval_value == \"need_improvement\" or eval_value == \"needs_improvement\":\n",
    "        return \"optimizer\"\n",
    "    elif state[\"itreation\"] >= state[\"max_iterations\"]:\n",
    "        return END\n",
    "    else:\n",
    "        # Fallback to optimizer for any unexpected value\n",
    "        return \"optimizer\""
   ]
  },
  {
   "cell_type": "code",
   "execution_count": 88,
   "id": "1af20dbe",
   "metadata": {},
   "outputs": [],
   "source": [
    "## Adding Nodes to the graph\n",
    "\n",
    "\n",
    "graph.add_node(\"generate\",generate_tweet)\n",
    "graph.add_node(\"Evaluate\",Evaluate_tweet)\n",
    "graph.add_node(\"optimizer\",optimizer_tweet)\n",
    "\n",
    "\n",
    "graph.add_edge(START,\"generate\")\n",
    "graph.add_edge(\"generate\",\"Evaluate\")\n",
    "graph.add_conditional_edges('Evaluate', check_evaluation, {\"approved\": END, \"need_improvement\": \"optimizer\"})\n",
    "graph.add_edge(\"optimizer\",\"Evaluate\")\n",
    "# graph.add_edge(\"Evaluate\",END)\n",
    "\n",
    "\n",
    "workflow = graph.compile()\n",
    "\n"
   ]
  },
  {
   "cell_type": "code",
   "execution_count": 89,
   "id": "7cef68e8",
   "metadata": {},
   "outputs": [
    {
     "data": {
      "image/png": "[encoded data removed]",
      "text/plain": [
       "<langgraph.graph.state.CompiledStateGraph object at 0x765468789010>"
      ]
     },
     "execution_count": 89,
     "metadata": {},
     "output_type": "execute_result"
    }
   ],
   "source": [
    "workflow"
   ]
  },
  {
   "cell_type": "code",
   "execution_count": 91,
   "id": "9fd02322",
   "metadata": {},
   "outputs": [
    {
     "name": "stdout",
     "output_type": "stream",
     "text": [
      "Evaluation value: approved\n"
     ]
    },
    {
     "ename": "KeyError",
     "evalue": "'__end__'",
     "output_type": "error",
     "traceback": [
      "\u001b[31m---------------------------------------------------------------------------\u001b[39m",
      "\u001b[31mKeyError\u001b[39m                                  Traceback (most recent call last)",
      "\u001b[36mCell\u001b[39m\u001b[36m \u001b[39m\u001b[32mIn[91]\u001b[39m\u001b[32m, line 11\u001b[39m\n\u001b[32m      1\u001b[39m init_state = {\n\u001b[32m      2\u001b[39m     \u001b[33m\"\u001b[39m\u001b[33mtopic\u001b[39m\u001b[33m\"\u001b[39m: \u001b[33m\"\u001b[39m\u001b[33mHow to switch job in machine learning for 6 7 months of experience \u001b[39m\u001b[33m\"\u001b[39m,\n\u001b[32m      3\u001b[39m     \u001b[33m\"\u001b[39m\u001b[33mtweet\u001b[39m\u001b[33m\"\u001b[39m: \u001b[33m\"\u001b[39m\u001b[33m\"\u001b[39m,\n\u001b[32m   (...)\u001b[39m\u001b[32m      8\u001b[39m     \u001b[33m\"\u001b[39m\u001b[33mfeedback\u001b[39m\u001b[33m\"\u001b[39m: \u001b[33m\"\u001b[39m\u001b[33m\"\u001b[39m  \u001b[38;5;66;03m# If you use feedback in your state, add this too\u001b[39;00m\n\u001b[32m      9\u001b[39m }\n\u001b[32m---> \u001b[39m\u001b[32m11\u001b[39m result = \u001b[43mworkflow\u001b[49m\u001b[43m.\u001b[49m\u001b[43minvoke\u001b[49m\u001b[43m(\u001b[49m\u001b[43minit_state\u001b[49m\u001b[43m)\u001b[49m\n",
      "\u001b[36mFile \u001b[39m\u001b[32m~/Desktop/Langgraph/venv/lib/python3.12/site-packages/langgraph/pregel/__init__.py:2844\u001b[39m, in \u001b[36mPregel.invoke\u001b[39m\u001b[34m(self, input, config, stream_mode, print_mode, output_keys, interrupt_before, interrupt_after, **kwargs)\u001b[39m\n\u001b[32m   2841\u001b[39m chunks: \u001b[38;5;28mlist\u001b[39m[\u001b[38;5;28mdict\u001b[39m[\u001b[38;5;28mstr\u001b[39m, Any] | Any] = []\n\u001b[32m   2842\u001b[39m interrupts: \u001b[38;5;28mlist\u001b[39m[Interrupt] = []\n\u001b[32m-> \u001b[39m\u001b[32m2844\u001b[39m \u001b[43m\u001b[49m\u001b[38;5;28;43;01mfor\u001b[39;49;00m\u001b[43m \u001b[49m\u001b[43mchunk\u001b[49m\u001b[43m \u001b[49m\u001b[38;5;129;43;01min\u001b[39;49;00m\u001b[43m \u001b[49m\u001b[38;5;28;43mself\u001b[39;49m\u001b[43m.\u001b[49m\u001b[43mstream\u001b[49m\u001b[43m(\u001b[49m\n\u001b[32m   2845\u001b[39m \u001b[43m    \u001b[49m\u001b[38;5;28;43minput\u001b[39;49m\u001b[43m,\u001b[49m\n\u001b[32m   2846\u001b[39m \u001b[43m    \u001b[49m\u001b[43mconfig\u001b[49m\u001b[43m,\u001b[49m\n\u001b[32m   2847\u001b[39m \u001b[43m    \u001b[49m\u001b[43mstream_mode\u001b[49m\u001b[43m=\u001b[49m\u001b[43m[\u001b[49m\u001b[33;43m\"\u001b[39;49m\u001b[33;43mupdates\u001b[39;49m\u001b[33;43m\"\u001b[39;49m\u001b[43m,\u001b[49m\u001b[43m \u001b[49m\u001b[33;43m\"\u001b[39;49m\u001b[33;43mvalues\u001b[39;49m\u001b[33;43m\"\u001b[39;49m\u001b[43m]\u001b[49m\n\u001b[32m   2848\u001b[39m \u001b[43m    \u001b[49m\u001b[38;5;28;43;01mif\u001b[39;49;00m\u001b[43m \u001b[49m\u001b[43mstream_mode\u001b[49m\u001b[43m \u001b[49m\u001b[43m==\u001b[49m\u001b[43m \u001b[49m\u001b[33;43m\"\u001b[39;49m\u001b[33;43mvalues\u001b[39;49m\u001b[33;43m\"\u001b[39;49m\n\u001b[32m   2849\u001b[39m \u001b[43m    \u001b[49m\u001b[38;5;28;43;01melse\u001b[39;49;00m\u001b[43m \u001b[49m\u001b[43mstream_mode\u001b[49m\u001b[43m,\u001b[49m\n\u001b[32m   2850\u001b[39m \u001b[43m    \u001b[49m\u001b[43mprint_mode\u001b[49m\u001b[43m=\u001b[49m\u001b[43mprint_mode\u001b[49m\u001b[43m,\u001b[49m\n\u001b[32m   2851\u001b[39m \u001b[43m    \u001b[49m\u001b[43moutput_keys\u001b[49m\u001b[43m=\u001b[49m\u001b[43moutput_keys\u001b[49m\u001b[43m,\u001b[49m\n\u001b[32m   2852\u001b[39m \u001b[43m    \u001b[49m\u001b[43minterrupt_before\u001b[49m\u001b[43m=\u001b[49m\u001b[43minterrupt_before\u001b[49m\u001b[43m,\u001b[49m\n\u001b[32m   2853\u001b[39m \u001b[43m    \u001b[49m\u001b[43minterrupt_after\u001b[49m\u001b[43m=\u001b[49m\u001b[43minterrupt_after\u001b[49m\u001b[43m,\u001b[49m\n\u001b[32m   2854\u001b[39m \u001b[43m    \u001b[49m\u001b[43m*\u001b[49m\u001b[43m*\u001b[49m\u001b[43mkwargs\u001b[49m\u001b[43m,\u001b[49m\n\u001b[32m   2855\u001b[39m \u001b[43m\u001b[49m\u001b[43m)\u001b[49m\u001b[43m:\u001b[49m\n\u001b[32m   2856\u001b[39m \u001b[43m    \u001b[49m\u001b[38;5;28;43;01mif\u001b[39;49;00m\u001b[43m \u001b[49m\u001b[43mstream_mode\u001b[49m\u001b[43m \u001b[49m\u001b[43m==\u001b[49m\u001b[43m \u001b[49m\u001b[33;43m\"\u001b[39;49m\u001b[33;43mvalues\u001b[39;49m\u001b[33;43m\"\u001b[39;49m\u001b[43m:\u001b[49m\n\u001b[32m   2857\u001b[39m \u001b[43m        \u001b[49m\u001b[38;5;28;43;01mif\u001b[39;49;00m\u001b[43m \u001b[49m\u001b[38;5;28;43mlen\u001b[39;49m\u001b[43m(\u001b[49m\u001b[43mchunk\u001b[49m\u001b[43m)\u001b[49m\u001b[43m \u001b[49m\u001b[43m==\u001b[49m\u001b[43m \u001b[49m\u001b[32;43m2\u001b[39;49m\u001b[43m:\u001b[49m\n",
      "\u001b[36mFile \u001b[39m\u001b[32m~/Desktop/Langgraph/venv/lib/python3.12/site-packages/langgraph/pregel/__init__.py:2534\u001b[39m, in \u001b[36mPregel.stream\u001b[39m\u001b[34m(self, input, config, stream_mode, print_mode, output_keys, interrupt_before, interrupt_after, checkpoint_during, debug, subgraphs)\u001b[39m\n\u001b[32m   2532\u001b[39m \u001b[38;5;28;01mfor\u001b[39;00m task \u001b[38;5;129;01min\u001b[39;00m loop.match_cached_writes():\n\u001b[32m   2533\u001b[39m     loop.output_writes(task.id, task.writes, cached=\u001b[38;5;28;01mTrue\u001b[39;00m)\n\u001b[32m-> \u001b[39m\u001b[32m2534\u001b[39m \u001b[43m\u001b[49m\u001b[38;5;28;43;01mfor\u001b[39;49;00m\u001b[43m \u001b[49m\u001b[43m_\u001b[49m\u001b[43m \u001b[49m\u001b[38;5;129;43;01min\u001b[39;49;00m\u001b[43m \u001b[49m\u001b[43mrunner\u001b[49m\u001b[43m.\u001b[49m\u001b[43mtick\u001b[49m\u001b[43m(\u001b[49m\n\u001b[32m   2535\u001b[39m \u001b[43m    \u001b[49m\u001b[43m[\u001b[49m\u001b[43mt\u001b[49m\u001b[43m \u001b[49m\u001b[38;5;28;43;01mfor\u001b[39;49;00m\u001b[43m \u001b[49m\u001b[43mt\u001b[49m\u001b[43m \u001b[49m\u001b[38;5;129;43;01min\u001b[39;49;00m\u001b[43m \u001b[49m\u001b[43mloop\u001b[49m\u001b[43m.\u001b[49m\u001b[43mtasks\u001b[49m\u001b[43m.\u001b[49m\u001b[43mvalues\u001b[49m\u001b[43m(\u001b[49m\u001b[43m)\u001b[49m\u001b[43m \u001b[49m\u001b[38;5;28;43;01mif\u001b[39;49;00m\u001b[43m \u001b[49m\u001b[38;5;129;43;01mnot\u001b[39;49;00m\u001b[43m \u001b[49m\u001b[43mt\u001b[49m\u001b[43m.\u001b[49m\u001b[43mwrites\u001b[49m\u001b[43m]\u001b[49m\u001b[43m,\u001b[49m\n\u001b[32m   2536\u001b[39m \u001b[43m    \u001b[49m\u001b[43mtimeout\u001b[49m\u001b[43m=\u001b[49m\u001b[38;5;28;43mself\u001b[39;49m\u001b[43m.\u001b[49m\u001b[43mstep_timeout\u001b[49m\u001b[43m,\u001b[49m\n\u001b[32m   2537\u001b[39m \u001b[43m    \u001b[49m\u001b[43mget_waiter\u001b[49m\u001b[43m=\u001b[49m\u001b[43mget_waiter\u001b[49m\u001b[43m,\u001b[49m\n\u001b[32m   2538\u001b[39m \u001b[43m    \u001b[49m\u001b[43mschedule_task\u001b[49m\u001b[43m=\u001b[49m\u001b[43mloop\u001b[49m\u001b[43m.\u001b[49m\u001b[43maccept_push\u001b[49m\u001b[43m,\u001b[49m\n\u001b[32m   2539\u001b[39m \u001b[43m\u001b[49m\u001b[43m)\u001b[49m\u001b[43m:\u001b[49m\n\u001b[32m   2540\u001b[39m \u001b[43m    \u001b[49m\u001b[38;5;66;43;03m# emit output\u001b[39;49;00m\n\u001b[32m   2541\u001b[39m \u001b[43m    \u001b[49m\u001b[38;5;28;43;01myield from\u001b[39;49;00m\u001b[43m \u001b[49m\u001b[43m_output\u001b[49m\u001b[43m(\u001b[49m\n\u001b[32m   2542\u001b[39m \u001b[43m        \u001b[49m\u001b[43mstream_mode\u001b[49m\u001b[43m,\u001b[49m\u001b[43m \u001b[49m\u001b[43mprint_mode\u001b[49m\u001b[43m,\u001b[49m\u001b[43m \u001b[49m\u001b[43msubgraphs\u001b[49m\u001b[43m,\u001b[49m\u001b[43m \u001b[49m\u001b[43mstream\u001b[49m\u001b[43m.\u001b[49m\u001b[43mget\u001b[49m\u001b[43m,\u001b[49m\u001b[43m \u001b[49m\u001b[43mqueue\u001b[49m\u001b[43m.\u001b[49m\u001b[43mEmpty\u001b[49m\n\u001b[32m   2543\u001b[39m \u001b[43m    \u001b[49m\u001b[43m)\u001b[49m\n\u001b[32m   2544\u001b[39m loop.after_tick()\n",
      "\u001b[36mFile \u001b[39m\u001b[32m~/Desktop/Langgraph/venv/lib/python3.12/site-packages/langgraph/graph/branch.py:170\u001b[39m, in \u001b[36mBranch._route\u001b[39m\u001b[34m(self, input, config, reader, writer)\u001b[39m\n\u001b[32m    168\u001b[39m     value = \u001b[38;5;28minput\u001b[39m\n\u001b[32m    169\u001b[39m result = \u001b[38;5;28mself\u001b[39m.path.invoke(value, config)\n\u001b[32m--> \u001b[39m\u001b[32m170\u001b[39m \u001b[38;5;28;01mreturn\u001b[39;00m \u001b[38;5;28;43mself\u001b[39;49m\u001b[43m.\u001b[49m\u001b[43m_finish\u001b[49m\u001b[43m(\u001b[49m\u001b[43mwriter\u001b[49m\u001b[43m,\u001b[49m\u001b[43m \u001b[49m\u001b[38;5;28;43minput\u001b[39;49m\u001b[43m,\u001b[49m\u001b[43m \u001b[49m\u001b[43mresult\u001b[49m\u001b[43m,\u001b[49m\u001b[43m \u001b[49m\u001b[43mconfig\u001b[49m\u001b[43m)\u001b[49m\n",
      "\u001b[36mFile \u001b[39m\u001b[32m~/Desktop/Langgraph/venv/lib/python3.12/site-packages/langgraph/graph/branch.py:206\u001b[39m, in \u001b[36mBranch._finish\u001b[39m\u001b[34m(self, writer, input, result, config)\u001b[39m\n\u001b[32m    203\u001b[39m     result = [result]\n\u001b[32m    204\u001b[39m \u001b[38;5;28;01mif\u001b[39;00m \u001b[38;5;28mself\u001b[39m.ends:\n\u001b[32m    205\u001b[39m     destinations: Sequence[Send | \u001b[38;5;28mstr\u001b[39m] = [\n\u001b[32m--> \u001b[39m\u001b[32m206\u001b[39m         r \u001b[38;5;28;01mif\u001b[39;00m \u001b[38;5;28misinstance\u001b[39m(r, Send) \u001b[38;5;28;01melse\u001b[39;00m \u001b[38;5;28;43mself\u001b[39;49m\u001b[43m.\u001b[49m\u001b[43mends\u001b[49m\u001b[43m[\u001b[49m\u001b[43mr\u001b[49m\u001b[43m]\u001b[49m \u001b[38;5;28;01mfor\u001b[39;00m r \u001b[38;5;129;01min\u001b[39;00m result\n\u001b[32m    207\u001b[39m     ]\n\u001b[32m    208\u001b[39m \u001b[38;5;28;01melse\u001b[39;00m:\n\u001b[32m    209\u001b[39m     destinations = cast(Sequence[Union[Send, \u001b[38;5;28mstr\u001b[39m]], result)\n",
      "\u001b[31mKeyError\u001b[39m: '__end__'",
      "During task with name 'Evaluate' and id '669cd71e-50e9-e936-08c2-849aba788b55'"
     ]
    }
   ],
   "source": [
    "init_state = {\n",
    "    \"topic\": \"How to switch job in machine learning for 6 7 months of experience \",\n",
    "    \"tweet\": \"\",\n",
    "    \"evaluation\": \"\",\n",
    "    \"optimized_tweet\": \"\",\n",
    "    \"itreation\": 1,\n",
    "    \"max_iterations\": 5,\n",
    "    \"feedback\": \"\"  # If you use feedback in your state, add this too\n",
    "}\n",
    "\n",
    "result = workflow.invoke(init_state)\n",
    "\n"
   ]
  },
  {
   "cell_type": "code",
   "execution_count": null,
   "id": "e76a8af6",
   "metadata": {},
   "outputs": [],
   "source": []
  }
 ],
 "metadata": {
  "kernelspec": {
   "display_name": "venv",
   "language": "python",
   "name": "python3"
  },
  "language_info": {
   "codemirror_mode": {
    "name": "ipython",
    "version": 3
   },
   "file_extension": ".py",
   "mimetype": "text/x-python",
   "name": "python",
   "nbconvert_exporter": "python",
   "pygments_lexer": "ipython3",
   "version": "3.12.3"
  }
 },
 "nbformat": 4,
 "nbformat_minor": 5
}
