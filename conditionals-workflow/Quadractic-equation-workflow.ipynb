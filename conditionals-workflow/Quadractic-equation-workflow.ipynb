{
 "cells": [
  {
   "cell_type": "code",
   "execution_count": 92,
   "id": "fcdeb244",
   "metadata": {},
   "outputs": [
    {
     "data": {
      "text/plain": [
       "True"
      ]
     },
     "execution_count": 92,
     "metadata": {},
     "output_type": "execute_result"
    }
   ],
   "source": [
    "from langgraph.graph import StateGraph,START,END\n",
    "from typing import TypedDict,Annotated,Literal\n",
    "from langchain_google_genai import ChatGoogleGenerativeAI\n",
    "from dotenv import load_dotenv\n",
    "from pydantic import BaseModel,Field\n",
    "import operator\n",
    "import os   \n",
    "load_dotenv()"
   ]
  },
  {
   "cell_type": "code",
   "execution_count": 93,
   "id": "aa59ec54",
   "metadata": {},
   "outputs": [],
   "source": [
    "class QuadraticEquation(TypedDict):\n",
    "    a: int\n",
    "    b: int\n",
    "    c: int\n",
    "\n",
    "    equation:str\n",
    "    discriminant: float\n",
    "    result:str\n",
    "\n"
   ]
  },
  {
   "cell_type": "code",
   "execution_count": 94,
   "id": "128683f1",
   "metadata": {},
   "outputs": [],
   "source": [
    "graph =StateGraph(QuadraticEquation)"
   ]
  },
  {
   "cell_type": "code",
   "execution_count": 95,
   "id": "d09a5095",
   "metadata": {},
   "outputs": [],
   "source": [
    "def show_equation(state:QuadraticEquation):\n",
    "    equation =f\"{state[\"a\"]}x2{state['b']}x{state['c']}\"\n",
    "\n",
    "    return {\"equation\":equation}\n"
   ]
  },
  {
   "cell_type": "code",
   "execution_count": 96,
   "id": "82ba65dd",
   "metadata": {},
   "outputs": [],
   "source": [
    "def calculate_discriminant(state:QuadraticEquation):\n",
    "    discriminant = state[\"b\"]**2-4*state[\"a\"]*state[\"c\"]\n",
    "    return {\"discriminant\":discriminant}"
   ]
  },
  {
   "cell_type": "code",
   "execution_count": 97,
   "id": "02aaa4d3",
   "metadata": {},
   "outputs": [],
   "source": [
    "def real_root(state:QuadraticEquation):\n",
    "\n",
    "    root1 = (-state[\"b\"]+state[\"discriminant\"]**0.5)/(2*state[\"a\"])\n",
    "    root2 = (-state[\"b\"]-state[\"discriminant\"]**0.5)/(2*state[\"a\"])\n",
    "\n",
    "\n",
    "    result =f\"The roots are {root1} and {root2}\"\n",
    "\n",
    "    return {\"result\":result}\n"
   ]
  },
  {
   "cell_type": "code",
   "execution_count": 98,
   "id": "4eacb5d3",
   "metadata": {},
   "outputs": [],
   "source": [
    "def repeted_root(state:QuadraticEquation):\n",
    "    root=(-state[\"b\"])/(2*state[\"a\"])\n",
    "\n",
    "    result =f\"Only repeat root {root}\"\n",
    "\n",
    "    return {\"result\":result}\n"
   ]
  },
  {
   "cell_type": "code",
   "execution_count": 99,
   "id": "95db9d5f",
   "metadata": {},
   "outputs": [],
   "source": [
    "def no_real_roots(state:QuadraticEquation):\n",
    "\n",
    "    result =f\"No real roots\"\n",
    "\n",
    "    return {\"result\":result}"
   ]
  },
  {
   "cell_type": "code",
   "execution_count": 100,
   "id": "dff15a81",
   "metadata": {},
   "outputs": [],
   "source": [
    "def check_condition(state:QuadraticEquation)->Literal[\"real_root\",\"repeted_root\",\"no_real_roots\"]:\n",
    "    if state[\"discriminant\"]>0:\n",
    "        return \"real_root\"\n",
    "    elif state[\"discriminant\"]==0:\n",
    "        return \"repeted_root\"\n",
    "    else:\n",
    "        return \"no_real_roots\"\n"
   ]
  },
  {
   "cell_type": "code",
   "execution_count": 101,
   "id": "1fb4da27",
   "metadata": {},
   "outputs": [
    {
     "data": {
      "text/plain": [
       "<langgraph.graph.state.StateGraph at 0x73bee7d0a390>"
      ]
     },
     "execution_count": 101,
     "metadata": {},
     "output_type": "execute_result"
    }
   ],
   "source": [
    "graph.add_node(\"show_equation\",show_equation)\n",
    "graph.add_node(\"calculate_discriminant\",calculate_discriminant)\n",
    "graph.add_node(\"no_real_roots\",no_real_roots)\n",
    "graph.add_node(\"repeted_root\",repeted_root)\n",
    "graph.add_node(\"real_root\",real_root)\n",
    "\n",
    "\n",
    "graph.add_edge(START,\"show_equation\")\n",
    "graph.add_edge(\"show_equation\",\"calculate_discriminant\")\n",
    "graph.add_conditional_edges(\"calculate_discriminant\",check_condition)\n",
    "# graph.add_conditional_edges(\"calculate_discriminant\",\"no_real_roots\")\n",
    "# graph.add_conditional_edges(\"calculate_discriminant\",\"repeted_root\")\n",
    "\n",
    "graph.add_edge(\"real_root\",END)\n",
    "graph.add_edge(\"repeted_root\",END)\n",
    "graph.add_edge(\"no_real_roots\",END)\n",
    "\n"
   ]
  },
  {
   "cell_type": "code",
   "execution_count": 102,
   "id": "aa3bd336",
   "metadata": {},
   "outputs": [],
   "source": [
    "wrokflow = graph.compile()"
   ]
  },
  {
   "cell_type": "code",
   "execution_count": 103,
   "id": "8deb1a8d",
   "metadata": {},
   "outputs": [
    {
     "data": {
      "image/png": "[encoded data removed]",
      "text/plain": [
       "<langgraph.graph.state.CompiledStateGraph object at 0x73bef1139df0>"
      ]
     },
     "execution_count": 103,
     "metadata": {},
     "output_type": "execute_result"
    }
   ],
   "source": [
    "wrokflow"
   ]
  },
  {
   "cell_type": "code",
   "execution_count": 107,
   "id": "11740bdd",
   "metadata": {},
   "outputs": [
    {
     "data": {
      "text/plain": [
       "{'a': 4,\n",
       " 'b': 4,\n",
       " 'c': 4,\n",
       " 'equation': '4x24x4',\n",
       " 'discriminant': -48,\n",
       " 'result': 'No real roots'}"
      ]
     },
     "execution_count": 107,
     "metadata": {},
     "output_type": "execute_result"
    }
   ],
   "source": [
    "initial_state = {\n",
    "    \"a\":4,\n",
    "    \"b\":4,\n",
    "    \"c\":4\n",
    "}\n",
    "\n",
    "wrokflow.invoke(initial_state)"
   ]
  },
  {
   "cell_type": "code",
   "execution_count": null,
   "id": "2d217838",
   "metadata": {},
   "outputs": [],
   "source": []
  }
 ],
 "metadata": {
  "kernelspec": {
   "display_name": "venv",
   "language": "python",
   "name": "python3"
  },
  "language_info": {
   "codemirror_mode": {
    "name": "ipython",
    "version": 3
   },
   "file_extension": ".py",
   "mimetype": "text/x-python",
   "name": "python",
   "nbconvert_exporter": "python",
   "pygments_lexer": "ipython3",
   "version": "3.12.3"
  }
 },
 "nbformat": 4,
 "nbformat_minor": 5
}
