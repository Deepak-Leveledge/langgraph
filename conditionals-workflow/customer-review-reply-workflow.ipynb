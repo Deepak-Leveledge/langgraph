{
 "cells": [
  {
   "cell_type": "code",
   "execution_count": 119,
   "id": "0419da97",
   "metadata": {},
   "outputs": [
    {
     "data": {
      "text/plain": [
       "True"
      ]
     },
     "execution_count": 119,
     "metadata": {},
     "output_type": "execute_result"
    }
   ],
   "source": [
    "from langgraph.graph import StateGraph,START,END\n",
    "from typing import TypedDict,Annotated,Literal\n",
    "from langchain_google_genai import ChatGoogleGenerativeAI\n",
    "from dotenv import load_dotenv\n",
    "from pydantic import BaseModel,Field\n",
    "import operator\n",
    "import os   \n",
    "load_dotenv()"
   ]
  },
  {
   "cell_type": "code",
   "execution_count": 120,
   "id": "3aaf0549",
   "metadata": {},
   "outputs": [],
   "source": [
    "model = ChatGoogleGenerativeAI(model=\"gemini-2.0-flash\",\n",
    "    api_key=os.getenv(\"GOOGLE_API\"))"
   ]
  },
  {
   "cell_type": "code",
   "execution_count": 121,
   "id": "f0e59cc9",
   "metadata": {},
   "outputs": [],
   "source": [
    "class SentimentSchema(BaseModel):\n",
    "    sentiment:Literal[\"positive\",\"negative\"]=Field(description=\"Sentiment of the review\")"
   ]
  },
  {
   "cell_type": "code",
   "execution_count": 122,
   "id": "2ab6b1c0",
   "metadata": {},
   "outputs": [],
   "source": [
    "class DiafnoseSchema(BaseModel):\n",
    "    issue_type:Literal[\"UX\",\"performance\",\"security\",\"other\"]=Field(description=\"The issue type\")\n",
    "    tone:Literal[\"angry\",\"sad\",\"happy\",\"other\"]=Field(description=\"Tone of the response\")\n",
    "    urgency:Literal[\"low\",\"medium\",\"high\"]=Field(description=\"Urgency of the response\")"
   ]
  },
  {
   "cell_type": "code",
   "execution_count": 123,
   "id": "a181bc39",
   "metadata": {},
   "outputs": [],
   "source": [
    "structured_model=model.with_structured_output(SentimentSchema)\n",
    "structured_model1=model.with_structured_output(DiafnoseSchema)"
   ]
  },
  {
   "cell_type": "code",
   "execution_count": 124,
   "id": "e224fb5b",
   "metadata": {},
   "outputs": [],
   "source": [
    "# prompt=\"What is the sentiment of the following review- The software is very bad i dont want to use it again\"\n",
    "# structured_model.invoke(prompt).sentiment"
   ]
  },
  {
   "cell_type": "code",
   "execution_count": 125,
   "id": "94ab1490",
   "metadata": {},
   "outputs": [],
   "source": [
    "class ReviewState(TypedDict):\n",
    "\n",
    "    review: str\n",
    "    sentiment: Literal[\"positive\", \"negative\"]\n",
    "    diagnose: dict\n",
    "    response:str\n"
   ]
  },
  {
   "cell_type": "code",
   "execution_count": 126,
   "id": "7f12a854",
   "metadata": {},
   "outputs": [],
   "source": [
    "graph = StateGraph(ReviewState)"
   ]
  },
  {
   "cell_type": "code",
   "execution_count": 127,
   "id": "3098ff44",
   "metadata": {},
   "outputs": [],
   "source": [
    "def find_sentiment(state:ReviewState):\n",
    "    prompt = f\"for the following review find out the sentiment \\n{state['review']}\"\n",
    "    sentiment = structured_model.invoke(prompt).sentiment\n",
    "    return {\"sentiment\": sentiment}"
   ]
  },
  {
   "cell_type": "code",
   "execution_count": 128,
   "id": "03d56d72",
   "metadata": {},
   "outputs": [],
   "source": [
    "def check_sentiment(state:ReviewState)->Literal[\"positive\",\"run_diagnose\"]:\n",
    "\n",
    "    if state[\"sentiment\"] == \"positive\":\n",
    "        return \"positive\"\n",
    "    else:\n",
    "        return \"run_diagnose\"\n",
    "\n"
   ]
  },
  {
   "cell_type": "code",
   "execution_count": 129,
   "id": "d72e8f72",
   "metadata": {},
   "outputs": [],
   "source": [
    "def run_diagnose(state:ReviewState):\n",
    "    prompt= f\"\"\"Daignose  this negative review \\n{state['review']}\n",
    "    Return issue_type,tone,and urgency\"\"\"\n",
    "\n",
    "    response=structured_model1.invoke(prompt)\n",
    "\n",
    "    return{\"diagnose\":response.model_dump()}"
   ]
  },
  {
   "cell_type": "code",
   "execution_count": 130,
   "id": "3f6e94c8",
   "metadata": {},
   "outputs": [],
   "source": [
    "def positive(state:ReviewState):\n",
    "    prompt = f\"\"\"write an warm thank you message in reponse to this review \\n\"{state['review']}\"\n",
    "    \\n\" Also replys us on website \"\"\"\n",
    "\n",
    "    response = model.invoke(prompt).content\n",
    "    return {\"response\": response}\n"
   ]
  },
  {
   "cell_type": "code",
   "execution_count": 131,
   "id": "a8e7aa72",
   "metadata": {},
   "outputs": [],
   "source": [
    "def negative(state:ReviewState):\n",
    "\n",
    "    daignose=state[\"diagnose\"]\n",
    "\n",
    "    prompt= f\"\"\"\n",
    "Your are as support assistant\n",
    "The user has a '{daignose['issue_type']}' issue,sounded like '{daignose['tone']}' and '{daignose['urgency']}' and  write empathetci , helpful rresolutions message \n",
    "\"\"\"\n",
    "    \n",
    "\n",
    "    response= model.invoke(prompt).content\n",
    "\n",
    "    return {\"response\":response}"
   ]
  },
  {
   "cell_type": "code",
   "execution_count": 132,
   "id": "c7b2b6b2",
   "metadata": {},
   "outputs": [
    {
     "data": {
      "text/plain": [
       "<langgraph.graph.state.StateGraph at 0x7b4c88716030>"
      ]
     },
     "execution_count": 132,
     "metadata": {},
     "output_type": "execute_result"
    }
   ],
   "source": [
    "graph.add_node('find_sentiment',find_sentiment)\n",
    "graph.add_node('run_diagnose',run_diagnose)\n",
    "graph.add_node('positive',positive)\n",
    "graph.add_node('negative',negative)\n",
    "\n",
    "\n",
    "\n",
    "\n",
    "\n",
    "\n",
    "graph.add_edge(START,'find_sentiment')\n",
    "\n",
    "graph.add_conditional_edges(\"find_sentiment\",check_sentiment)\n",
    "graph.add_edge('positive',END)\n",
    "graph.add_edge('run_diagnose','negative')\n",
    "graph.add_edge('negative',END)\n"
   ]
  },
  {
   "cell_type": "code",
   "execution_count": 133,
   "id": "e0e90634",
   "metadata": {},
   "outputs": [],
   "source": [
    "workflow=graph.compile()"
   ]
  },
  {
   "cell_type": "code",
   "execution_count": 134,
   "id": "61c1e6f4",
   "metadata": {},
   "outputs": [
    {
     "data": {
      "image/png": "[encoded data removed]",
      "text/plain": [
       "<langgraph.graph.state.CompiledStateGraph object at 0x7b4c9028c890>"
      ]
     },
     "execution_count": 134,
     "metadata": {},
     "output_type": "execute_result"
    }
   ],
   "source": [
    "workflow"
   ]
  },
  {
   "cell_type": "code",
   "execution_count": 136,
   "id": "a3fd8fd1",
   "metadata": {},
   "outputs": [
    {
     "data": {
      "text/plain": [
       "{'review': 'The software id Good and i want to use more ',\n",
       " 'sentiment': 'positive',\n",
       " 'response': 'Okay, here are a few options, ranging from brief to slightly more detailed, all with a warm and appreciative tone:\\n\\n**Option 1 (Short & Sweet):**\\n\\n> Thank you so much for your positive feedback! We\\'re glad you\\'re enjoying the software and want to use it more. We\\'ll be sure to reply to you on our website shortly.\\n\\n**Option 2 (Slightly More Engaging):**\\n\\n> We really appreciate your kind words! It\\'s great to hear you\\'re finding the software good and want to explore its full potential. We\\'ll be in touch with you through our website very soon. Thanks again!\\n\\n**Option 3 (A Bit More Personal):**\\n\\n> Thank you for taking the time to leave us a review! We\\'re thrilled you\\'re having a positive experience with the software and are interested in using it further. We value your feedback and will definitely reach out to you on our website to answer any questions you may have.\\n\\n**Option 4 (Focus on Helping):**\\n\\n> Thanks for your review! We\\'re so glad you\\'re finding our software useful. We\\'re eager to help you get the most out of it. We will reply to you on our website as soon as possible to assist you further.\\n\\n**Key elements used in these options:**\\n\\n*   **Genuine Appreciation:** Phrases like \"Thank you so much,\" \"We really appreciate,\" and \"We\\'re thrilled\" convey sincerity.\\n*   **Acknowledge Specifics:** Referencing \"the software is good\" shows you read and understood their comment.\\n*   **Address the Request:** Directly mention that you will reply on the website.\\n*   **Positive Tone:** Using words like \"enjoying,\" \"positive experience,\" and \"useful\" keeps the message upbeat.\\n*   **Offer Assistance:** Implying you\\'re happy to help (even if just by answering questions) is a nice touch.\\n\\nChoose the option that best fits your brand\\'s voice and the level of formality you prefer. Good luck!'}"
      ]
     },
     "execution_count": 136,
     "metadata": {},
     "output_type": "execute_result"
    }
   ],
   "source": [
    "initial_state={\"review\":\"The software id Good and i want to use more \"}\n",
    "workflow.invoke(initial_state)"
   ]
  },
  {
   "cell_type": "code",
   "execution_count": null,
   "id": "e163295b",
   "metadata": {},
   "outputs": [],
   "source": []
  }
 ],
 "metadata": {
  "kernelspec": {
   "display_name": "venv",
   "language": "python",
   "name": "python3"
  },
  "language_info": {
   "codemirror_mode": {
    "name": "ipython",
    "version": 3
   },
   "file_extension": ".py",
   "mimetype": "text/x-python",
   "name": "python",
   "nbconvert_exporter": "python",
   "pygments_lexer": "ipython3",
   "version": "3.12.3"
  }
 },
 "nbformat": 4,
 "nbformat_minor": 5
}
