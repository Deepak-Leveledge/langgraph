{
 "cells": [
  {
   "cell_type": "code",
   "execution_count": 1,
   "id": "993cdde5",
   "metadata": {},
   "outputs": [
    {
     "name": "stdout",
     "output_type": "stream",
     "text": [
      "Hello world\n"
     ]
    }
   ],
   "source": [
    "print(\"Hello world\")"
   ]
  },
  {
   "cell_type": "code",
   "execution_count": 2,
   "id": "c9b7984b",
   "metadata": {},
   "outputs": [
    {
     "data": {
      "text/plain": [
       "True"
      ]
     },
     "execution_count": 2,
     "metadata": {},
     "output_type": "execute_result"
    }
   ],
   "source": [
    "from langgraph.graph import StateGraph,START,END\n",
    "from typing import TypedDict\n",
    "from langchain_google_genai import ChatGoogleGenerativeAI\n",
    "from dotenv import load_dotenv\n",
    "import os   \n",
    "load_dotenv()"
   ]
  },
  {
   "cell_type": "code",
   "execution_count": 6,
   "id": "2c63fbe7",
   "metadata": {},
   "outputs": [],
   "source": [
    "model = ChatGoogleGenerativeAI(model=\"gemini-2.0-flash\",\n",
    "    api_key=os.getenv(\"GOOGLE_API\"))"
   ]
  },
  {
   "cell_type": "code",
   "execution_count": 19,
   "id": "5459246f",
   "metadata": {},
   "outputs": [],
   "source": [
    "class LLMState(TypedDict):\n",
    "    question:str\n",
    "    answer:str"
   ]
  },
  {
   "cell_type": "code",
   "execution_count": 20,
   "id": "0d2fc22d",
   "metadata": {},
   "outputs": [],
   "source": [
    "graph=StateGraph(LLMState)\n",
    "\n"
   ]
  },
  {
   "cell_type": "code",
   "execution_count": 21,
   "id": "4e64c8e3",
   "metadata": {},
   "outputs": [],
   "source": [
    "def llm_qa(state:LLMState)->LLMState:\n",
    "\n",
    "    #extract the question from state\n",
    "    question = state[\"question\"]\n",
    "##from prompt\n",
    "\n",
    "\n",
    "    prompt=f\"Answer the followin question: {question}\"\n",
    "##ask that question\n",
    "    answer  = model.invoke(prompt).content\n",
    "     \n",
    "\n",
    "\n",
    "#update the sate\n",
    "\n",
    "    state[\"answer\"] = answer\n",
    "    return state\n",
    "    "
   ]
  },
  {
   "cell_type": "code",
   "execution_count": 22,
   "id": "d3bf149b",
   "metadata": {},
   "outputs": [
    {
     "data": {
      "text/plain": [
       "<langgraph.graph.state.StateGraph at 0x7338a1edd9a0>"
      ]
     },
     "execution_count": 22,
     "metadata": {},
     "output_type": "execute_result"
    }
   ],
   "source": [
    "##add node\n",
    "graph.add_node(\"llm\",llm_qa)\n",
    "\n",
    "\n",
    "##add edge\n",
    "graph.add_edge(START,\"llm\")\n",
    "graph.add_edge(\"llm\",END)\n",
    "\n"
   ]
  },
  {
   "cell_type": "code",
   "execution_count": 23,
   "id": "b10e6f12",
   "metadata": {},
   "outputs": [],
   "source": [
    "workflow=graph.compile()"
   ]
  },
  {
   "cell_type": "code",
   "execution_count": 25,
   "id": "31b41ae9",
   "metadata": {},
   "outputs": [
    {
     "name": "stdout",
     "output_type": "stream",
     "text": [
      "India is incredibly diverse and offers a wealth of famous places to visit, catering to all interests. Here's a breakdown of some of the most popular and iconic destinations, categorized for easier planning:\n",
      "\n",
      "**Historical & Architectural Wonders:**\n",
      "\n",
      "*   **Taj Mahal (Agra, Uttar Pradesh):** The iconic marble mausoleum, a symbol of love and one of the Seven Wonders of the World.\n",
      "*   **Red Fort (Delhi):** A historic fort complex that served as the main residence of the Mughal emperors.\n",
      "*   **Amber Fort (Jaipur, Rajasthan):** A magnificent fort palace with stunning architecture and panoramic views.\n",
      "*   **Hawa Mahal (Jaipur, Rajasthan):** The \"Palace of Winds,\" known for its intricate facade and numerous windows.\n",
      "*   **Qutub Minar (Delhi):** A towering minaret and UNESCO World Heritage Site, showcasing Indo-Islamic architecture.\n",
      "*   **Humayun's Tomb (Delhi):** A precursor to the Taj Mahal, a beautiful Mughal-era tomb.\n",
      "*   **Victoria Memorial (Kolkata, West Bengal):** A grand marble building dedicated to Queen Victoria.\n",
      "*   **Ajanta and Ellora Caves (Maharashtra):** Ancient rock-cut cave temples featuring stunning Buddhist, Hindu, and Jain art.\n",
      "*   **Khajuraho Temples (Madhya Pradesh):** Famous for their intricate sculptures and depictions of life and love.\n",
      "*   **Meenakshi Amman Temple (Madurai, Tamil Nadu):** A vibrant and impressive Hindu temple complex.\n",
      "*   **Golden Temple (Amritsar, Punjab):** The holiest shrine for Sikhs, known for its golden dome and spiritual atmosphere.\n",
      "*   **Fatehpur Sikri (Uttar Pradesh):** A deserted Mughal city, showcasing stunning architecture.\n",
      "*   **Mysore Palace (Mysore, Karnataka):** A grand palace with intricate carvings and a rich history.\n",
      "*   **Gwalior Fort (Madhya Pradesh):** A majestic fort perched on a hilltop, offering panoramic views.\n",
      "\n",
      "**Natural Beauty & Landscapes:**\n",
      "\n",
      "*   **Kerala Backwaters:** A network of lagoons, lakes, and canals, offering serene houseboat cruises.\n",
      "*   **Goa Beaches:** Famous for their golden sands, vibrant nightlife, and Portuguese heritage.\n",
      "*   **Himalayas (Various States):** Home to stunning mountain ranges, trekking trails, and spiritual retreats. Popular destinations include:\n",
      "    *   **Leh-Ladakh (Jammu and Kashmir):** Known for its stark landscapes, high-altitude passes, and Buddhist monasteries.\n",
      "    *   **Shimla and Manali (Himachal Pradesh):** Popular hill stations with scenic beauty and adventure activities.\n",
      "    *   **Darjeeling (West Bengal):** Famous for its tea plantations and views of Kanchenjunga.\n",
      "    *   **Uttarakhand (Char Dham):** Considered holy for Hindus and has many temples.\n",
      "*   **Sundarbans National Park (West Bengal):** A UNESCO World Heritage Site and home to the Royal Bengal Tiger.\n",
      "*   **Ranthambore National Park (Rajasthan):** A popular destination for tiger safaris.\n",
      "*   **Periyar National Park (Kerala):** Known for its elephant and tiger populations, as well as its scenic lake.\n",
      "*   **Valley of Flowers National Park (Uttarakhand):** A UNESCO World Heritage Site known for its stunning alpine meadows.\n",
      "*   **Nohkalikai Falls (Meghalaya):** One of the tallest plunge waterfalls in India.\n",
      "\n",
      "**Cities & Cultural Hubs:**\n",
      "\n",
      "*   **Delhi:** A vibrant metropolis with a rich history, diverse culture, and delicious food.\n",
      "*   **Mumbai:** The \"City of Dreams,\" known for its Bollywood industry, bustling markets, and colonial architecture.\n",
      "*   **Jaipur:** The \"Pink City,\" known for its historical monuments, colorful markets, and royal heritage.\n",
      "*   **Varanasi:** One of the oldest living cities in the world, a spiritual center for Hindus.\n",
      "*   **Udaipur:** The \"City of Lakes,\" known for its romantic ambiance, palaces, and stunning lake views.\n",
      "*   **Kolkata:** The \"City of Joy,\" known for its colonial architecture, cultural heritage, and delicious cuisine.\n",
      "*   **Chennai:** A major cultural and economic hub in South India, known for its temples and beaches.\n",
      "*   **Bangalore:** The \"Silicon Valley of India,\" known for its technology industry, vibrant nightlife, and pleasant climate.\n",
      "\n",
      "**Religious Sites:**\n",
      "\n",
      "*   **Varanasi (Uttar Pradesh):** As mentioned above, it's a major spiritual center for Hindus.\n",
      "*   **Bodh Gaya (Bihar):** The place where Buddha attained enlightenment.\n",
      "*   **Haridwar and Rishikesh (Uttarakhand):** Important pilgrimage sites for Hindus, located on the banks of the Ganges.\n",
      "*   **Tirupati (Andhra Pradesh):** Home to the Sri Venkateswara Temple, one of the richest and most visited religious sites in the world.\n",
      "*   **Dwarka (Gujarat):** One of the four main Hindu pilgrimage sites (Char Dham).\n",
      "\n",
      "**Tips for Choosing:**\n",
      "\n",
      "*   **Your Interests:** What are you most interested in seeing and doing? History, nature, culture, adventure?\n",
      "*   **Time of Year:** India's climate varies greatly. Consider the best time to visit each region.\n",
      "*   **Budget:** Prices can vary significantly depending on the location and type of accommodation.\n",
      "*   **Transportation:** India has a vast network of trains, buses, and flights. Plan your transportation in advance.\n",
      "\n",
      "This is just a starting point. There are countless other amazing places to discover in India. Do some research based on your interests, and you're sure to have an unforgettable trip!\n"
     ]
    }
   ],
   "source": [
    "## execute \n",
    "\n",
    "inital_sate={\"question\":\"What is famous places to visit in india?\"}\n",
    "output=workflow.invoke(inital_sate)\n",
    "print(output[\"answer\"])"
   ]
  },
  {
   "cell_type": "code",
   "execution_count": null,
   "id": "4178fe7e",
   "metadata": {},
   "outputs": [],
   "source": []
  }
 ],
 "metadata": {
  "kernelspec": {
   "display_name": "venv",
   "language": "python",
   "name": "python3"
  },
  "language_info": {
   "codemirror_mode": {
    "name": "ipython",
    "version": 3
   },
   "file_extension": ".py",
   "mimetype": "text/x-python",
   "name": "python",
   "nbconvert_exporter": "python",
   "pygments_lexer": "ipython3",
   "version": "3.12.3"
  }
 },
 "nbformat": 4,
 "nbformat_minor": 5
}
